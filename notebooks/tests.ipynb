{
 "cells": [
  {
   "cell_type": "markdown",
   "id": "74c366590d71bb4",
   "metadata": {},
   "source": [
    "# Multilevel Monte Carlo Path Simulation"
   ]
  },
  {
   "cell_type": "code",
   "execution_count": 1,
   "id": "eba4f1fd55b278cf",
   "metadata": {
    "ExecuteTime": {
     "end_time": "2024-12-18T16:25:33.613404Z",
     "start_time": "2024-12-18T16:25:33.603046Z"
    }
   },
   "outputs": [],
   "source": [
    "import numpy as np\n",
    "import matplotlib.pyplot as plt\n",
    "\n",
    "import sys\n",
    "# Add the path to the mlmc module to the python path\n",
    "sys.path.append(\"../src\")\n",
    "from mlmc import MLMCEuropean, sde_path, call_payoff, black_scholes_call_price"
   ]
  },
  {
   "cell_type": "code",
   "execution_count": 3,
   "id": "d02ccfd1a7ade72b",
   "metadata": {
    "ExecuteTime": {
     "end_time": "2024-12-18T16:25:36.139551Z",
     "start_time": "2024-12-18T16:25:35.871224Z"
    }
   },
   "outputs": [
    {
     "name": "stdout",
     "output_type": "stream",
     "text": [
      "MLMC: 0.10397041500424853\n",
      "Classic Monte Carlo: 0.10605635649265216\n",
      "Black-Scholes Price: 0.10450583572185568\n"
     ]
    }
   ],
   "source": [
    "r = 0.05\n",
    "sigma = 0.2\n",
    "s0 = 1.0\n",
    "K = 1.0\n",
    "T = 1.0\n",
    "\n",
    "# MLMC parameters\n",
    "L = 5\n",
    "N = 10_000\n",
    "M = 4\n",
    "\n",
    "# For reproducibility\n",
    "rng = np.random.default_rng(seed=42)\n",
    "\n",
    "# MLMC\n",
    "mlmc_european = MLMCEuropean(L, M, T, rng)\n",
    "means = mlmc_european.estimate_call(s0, r, sigma, K, N)\n",
    "\n",
    "print(f\"MLMC: {np.sum(means)}\")\n",
    "\n",
    "# Classic Monte Carlo\n",
    "steps = M**L\n",
    "dt = T / steps\n",
    "dW = rng.normal(scale=np.sqrt(dt), size=(N, steps))\n",
    "\n",
    "S = sde_path(s0, r, sigma, steps, dt, dW)\n",
    "payoffs = np.exp(-r * T) * call_payoff(S, K)\n",
    "\n",
    "print(f\"Classic Monte Carlo: {np.mean(payoffs)}\")\n",
    "\n",
    "# Black-Scholes price\n",
    "print(f\"Black-Scholes Price: {black_scholes_call_price(s0, r, sigma, K, T)}\")"
   ]
  },
  {
   "cell_type": "code",
   "execution_count": null,
   "id": "9971a5ae",
   "metadata": {},
   "outputs": [],
   "source": []
  }
 ],
 "metadata": {
  "kernelspec": {
   "display_name": ".venv",
   "language": "python",
   "name": "python3"
  },
  "language_info": {
   "codemirror_mode": {
    "name": "ipython",
    "version": 3
   },
   "file_extension": ".py",
   "mimetype": "text/x-python",
   "name": "python",
   "nbconvert_exporter": "python",
   "pygments_lexer": "ipython3",
   "version": "3.13.0"
  }
 },
 "nbformat": 5,
 "nbformat_minor": 9
}
